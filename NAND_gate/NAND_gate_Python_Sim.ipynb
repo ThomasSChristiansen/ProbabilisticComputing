{
 "cells": [
  {
   "cell_type": "code",
   "execution_count": 1,
   "metadata": {},
   "outputs": [
    {
     "ename": "ValueError",
     "evalue": "node_order must be provided.",
     "output_type": "error",
     "traceback": [
      "\u001b[1;31m---------------------------------------------------------------------------\u001b[0m",
      "\u001b[1;31mValueError\u001b[0m                                Traceback (most recent call last)",
      "Cell \u001b[1;32mIn[1], line 12\u001b[0m\n\u001b[0;32m      3\u001b[0m J_bipolar \u001b[38;5;241m=\u001b[39m np\u001b[38;5;241m.\u001b[39marray([\n\u001b[0;32m      4\u001b[0m     [ \u001b[38;5;241m0\u001b[39m, \u001b[38;5;241m-\u001b[39m\u001b[38;5;241m1\u001b[39m, \u001b[38;5;241m-\u001b[39m\u001b[38;5;241m2\u001b[39m],\n\u001b[0;32m      5\u001b[0m     [\u001b[38;5;241m-\u001b[39m\u001b[38;5;241m1\u001b[39m,  \u001b[38;5;241m0\u001b[39m, \u001b[38;5;241m-\u001b[39m\u001b[38;5;241m2\u001b[39m],\n\u001b[0;32m      6\u001b[0m     [\u001b[38;5;241m-\u001b[39m\u001b[38;5;241m2\u001b[39m, \u001b[38;5;241m-\u001b[39m\u001b[38;5;241m2\u001b[39m,  \u001b[38;5;241m0\u001b[39m], \n\u001b[0;32m      7\u001b[0m ])\n\u001b[0;32m      9\u001b[0m h_bipolar \u001b[38;5;241m=\u001b[39m {\n\u001b[0;32m     10\u001b[0m     (\u001b[38;5;241m1\u001b[39m, \u001b[38;5;241m1\u001b[39m, \u001b[38;5;241m2\u001b[39m) : \u001b[38;5;124m\"\u001b[39m\u001b[38;5;124mFloating\u001b[39m\u001b[38;5;124m\"\u001b[39m,\n\u001b[0;32m     11\u001b[0m }\n\u001b[1;32m---> 12\u001b[0m \u001b[43msimulate_p_circuit\u001b[49m\u001b[38;5;241;43m.\u001b[39;49m\u001b[43mplot_probabilities\u001b[49m\u001b[43m(\u001b[49m\u001b[43mnum_steps\u001b[49m\u001b[38;5;241;43m=\u001b[39;49m\u001b[38;5;241;43m100000\u001b[39;49m\u001b[43m,\u001b[49m\u001b[43m \u001b[49m\u001b[43msavefig\u001b[49m\u001b[38;5;241;43m=\u001b[39;49m\u001b[38;5;28;43;01mFalse\u001b[39;49;00m\u001b[43m,\u001b[49m\u001b[43m \u001b[49m\u001b[43msave_csv\u001b[49m\u001b[38;5;241;43m=\u001b[39;49m\u001b[38;5;28;43;01mFalse\u001b[39;49;00m\u001b[43m,\u001b[49m\u001b[43mJ_bipolar\u001b[49m\u001b[38;5;241;43m=\u001b[39;49m\u001b[43mJ_bipolar\u001b[49m\u001b[43m,\u001b[49m\u001b[43mh_bipolar_dict\u001b[49m\u001b[38;5;241;43m=\u001b[39;49m\u001b[43mh_bipolar\u001b[49m\u001b[43m,\u001b[49m\u001b[43m \u001b[49m\u001b[43muse_boltzmann\u001b[49m\u001b[38;5;241;43m=\u001b[39;49m\u001b[38;5;28;43;01mFalse\u001b[39;49;00m\u001b[43m,\u001b[49m\u001b[43m \u001b[49m\u001b[43mfilename\u001b[49m\u001b[38;5;241;43m=\u001b[39;49m\u001b[38;5;124;43m\"\u001b[39;49m\u001b[38;5;124;43mNAND_Python_Sim\u001b[39;49m\u001b[38;5;124;43m\"\u001b[39;49m\u001b[43m,\u001b[49m\u001b[43mfigWidth\u001b[49m\u001b[38;5;241;43m=\u001b[39;49m\u001b[38;5;241;43m8\u001b[39;49m\u001b[43m)\u001b[49m\n",
      "File \u001b[1;32mC:\\Repositories\\ProbabilisticComputing\\Scripts\\simulate_p_circuit.py:94\u001b[0m, in \u001b[0;36mplot_probabilities\u001b[1;34m(num_steps, savefig, save_csv, J_bipolar, h_bipolar_dict, node_order, use_python, use_boltzmann, filename, figWidth, selected_bits, I0)\u001b[0m\n\u001b[0;32m     91\u001b[0m     node_order \u001b[38;5;241m=\u001b[39m node_order\u001b[38;5;241m.\u001b[39mtolist()\n\u001b[0;32m     93\u001b[0m \u001b[38;5;28;01mif\u001b[39;00m node_order \u001b[38;5;129;01mis\u001b[39;00m \u001b[38;5;28;01mNone\u001b[39;00m:\n\u001b[1;32m---> 94\u001b[0m     \u001b[38;5;28;01mraise\u001b[39;00m \u001b[38;5;167;01mValueError\u001b[39;00m(\u001b[38;5;124m\"\u001b[39m\u001b[38;5;124mnode_order must be provided.\u001b[39m\u001b[38;5;124m\"\u001b[39m)\n\u001b[0;32m     96\u001b[0m \u001b[38;5;66;03m# If selected_bits is not provided, use all indices.\u001b[39;00m\n\u001b[0;32m     97\u001b[0m \u001b[38;5;28;01mif\u001b[39;00m (selected_bits \u001b[38;5;241m==\u001b[39m \u001b[38;5;124m\"\u001b[39m\u001b[38;5;124mAll\u001b[39m\u001b[38;5;124m\"\u001b[39m):\n",
      "\u001b[1;31mValueError\u001b[0m: node_order must be provided."
     ]
    }
   ],
   "source": [
    "import Scripts.simulate_p_circuit as simulate_p_circuit\n",
    "import numpy as np\n",
    "J_bipolar = np.array([\n",
    "    [ 0, -1, -2],\n",
    "    [-1,  0, -2],\n",
    "    [-2, -2,  0], \n",
    "])\n",
    "\n",
    "h_bipolar = {\n",
    "    (1, 1, 2) : \"Floating\",\n",
    "}\n",
    "simulate_p_circuit.plot_probabilities(num_steps=100000, savefig=False, save_csv=False,J_bipolar=J_bipolar,h_bipolar_dict=h_bipolar, use_boltzmann=False, filename=\"NAND_Python_Sim\",figWidth=8)"
   ]
  }
 ],
 "metadata": {
  "kernelspec": {
   "display_name": ".venv",
   "language": "python",
   "name": "python3"
  },
  "language_info": {
   "codemirror_mode": {
    "name": "ipython",
    "version": 3
   },
   "file_extension": ".py",
   "mimetype": "text/x-python",
   "name": "python",
   "nbconvert_exporter": "python",
   "pygments_lexer": "ipython3",
   "version": "3.11.5"
  }
 },
 "nbformat": 4,
 "nbformat_minor": 2
}
