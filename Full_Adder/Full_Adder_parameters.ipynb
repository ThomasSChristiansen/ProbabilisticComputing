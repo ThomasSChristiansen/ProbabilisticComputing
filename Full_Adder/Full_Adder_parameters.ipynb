{
 "cells": [
  {
   "cell_type": "code",
   "execution_count": 1,
   "metadata": {},
   "outputs": [],
   "source": [
    "import Scripts.CustomConversions as CC\n",
    "import numpy as np"
   ]
  },
  {
   "cell_type": "markdown",
   "metadata": {},
   "source": [
    "# Notebooks for generating different parameters for the Full Adder"
   ]
  },
  {
   "cell_type": "markdown",
   "metadata": {},
   "source": [
    "Truth table:\n",
    "| A | B | C_in | Sum | C_out |\n",
    "|:---:|:---:|:---:|:---:|:---:|\n",
    "| 0 | 0 | 0 | 0 | 0 |\n",
    "| 0 | 0 | 1 | 1 | 0 |\n",
    "| 0 | 1 | 0 | 1 | 0 |\n",
    "| 0 | 1 | 1 | 0 | 1 |\n",
    "| 1 | 0 | 0 | 1 | 0 |\n",
    "| 1 | 0 | 1 | 0 | 1 |\n",
    "| 1 | 1 | 0 | 0 | 1 |\n",
    "| 1 | 1 | 1 | 1 | 1 |"
   ]
  },
  {
   "cell_type": "code",
   "execution_count": 2,
   "metadata": {},
   "outputs": [
    {
     "name": "stdout",
     "output_type": "stream",
     "text": [
      "Converted to binary:\n",
      "[[ 0. -2. -2.  2.  4.]\n",
      " [-2.  0. -2.  2.  4.]\n",
      " [-2. -2.  0.  2.  4.]\n",
      " [ 2.  2.  2.  0. -4.]\n",
      " [ 4.  4.  4. -4.  0.]]\n",
      "[-1. -1. -1. -1. -4.]\n",
      "Generated Verilog Parameters:\n",
      "\n",
      "parameter J_00 = 8'sb00000000;\n",
      "parameter J_01 = 8'sb11110000;\n",
      "parameter J_02 = 8'sb11110000;\n",
      "parameter J_03 = 8'sb00010000;\n",
      "parameter J_04 = 8'sb00100000;\n",
      "parameter J_10 = 8'sb11110000;\n",
      "parameter J_11 = 8'sb00000000;\n",
      "parameter J_12 = 8'sb11110000;\n",
      "parameter J_13 = 8'sb00010000;\n",
      "parameter J_14 = 8'sb00100000;\n",
      "parameter J_20 = 8'sb11110000;\n",
      "parameter J_21 = 8'sb11110000;\n",
      "parameter J_22 = 8'sb00000000;\n",
      "parameter J_23 = 8'sb00010000;\n",
      "parameter J_24 = 8'sb00100000;\n",
      "parameter J_30 = 8'sb00010000;\n",
      "parameter J_31 = 8'sb00010000;\n",
      "parameter J_32 = 8'sb00010000;\n",
      "parameter J_33 = 8'sb00000000;\n",
      "parameter J_34 = 8'sb11100000;\n",
      "parameter J_40 = 8'sb00100000;\n",
      "parameter J_41 = 8'sb00100000;\n",
      "parameter J_42 = 8'sb00100000;\n",
      "parameter J_43 = 8'sb11100000;\n",
      "parameter J_44 = 8'sb00000000;\n",
      "\n",
      "logic signed [7:0] J [0:4][0:4] = '{{J_00, J_01, J_02, J_03, J_04},\n",
      "{J_10, J_11, J_12, J_13, J_14},\n",
      "{J_20, J_21, J_22, J_23, J_24},\n",
      "{J_30, J_31, J_32, J_33, J_34},\n",
      "{J_40, J_41, J_42, J_43, J_44}};\n",
      "\n",
      "h[0] = 8'sb11111000;\n",
      "h[1] = 8'sb11111000;\n",
      "h[2] = 8'sb11111000;\n",
      "h[3] = 8'sb11111000;\n",
      "h[4] = 8'sb11100000;\n",
      "\n",
      "Generated Seeds:\n",
      "parameter seed0 = 32'b11100101101101111100110001100111;\n",
      "parameter seed1 = 32'b00011011101010110111010111010100;\n",
      "parameter seed2 = 32'b11101100011001000001100010101011;\n",
      "parameter seed3 = 32'b11011011000011100000111111110111;\n",
      "parameter seed4 = 32'b11100110000011100000110000001011;\n",
      "logic [31:0] seed [0:4] = '{seed0, seed1, seed2, seed3, seed4};\n"
     ]
    }
   ],
   "source": [
    "# Weight matrix\n",
    "J_bipolar = np.array([\n",
    "    [ 0, -1, -1,  1,  2],\n",
    "    [-1,  0, -1,  1,  2],\n",
    "    [-1, -1,  0,  1,  2],\n",
    "    [ 1,  1,  1,  0, -2],\n",
    "    [ 2,  2,  2, -2,  0]\n",
    "])\n",
    "\n",
    "# Bias \n",
    "h_bipolar_floating = np.array([0,0,0,0,0]) \n",
    "\n",
    "J_params, J_init, h_params = CC.generate_verilog_params(J_bipolar, h_bipolar_floating)\n",
    "\n",
    "# Generate seeds\n",
    "seeds_formatted = CC.generate_seed_array(len(h_bipolar_floating))\n",
    "\n",
    "# Print results\n",
    "print(\"Generated Verilog Parameters:\\n\")\n",
    "print(J_params)\n",
    "print(J_init)\n",
    "print()\n",
    "print(h_params)\n",
    "print(\"Generated Seeds:\")\n",
    "print(seeds_formatted)"
   ]
  },
  {
   "cell_type": "code",
   "execution_count": 5,
   "metadata": {},
   "outputs": [
    {
     "name": "stdout",
     "output_type": "stream",
     "text": [
      "#1000000;\n",
      "// h_bipolar(Floating State)\n",
      "h[0] = 8'sb11111000;\n",
      "h[1] = 8'sb11111000;\n",
      "h[2] = 8'sb11111000;\n",
      "h[3] = 8'sb11111000;\n",
      "h[4] = 8'sb11100000;\n",
      "bias[0] = s4_3_to_real(h[0]);\n",
      "bias[1] = s4_3_to_real(h[1]);\n",
      "bias[2] = s4_3_to_real(h[2]);\n",
      "bias[3] = s4_3_to_real(h[3]);\n",
      "bias[4] = s4_3_to_real(h[4]);\n",
      "\n"
     ]
    }
   ],
   "source": [
    "label_mapping = {\n",
    "    (-1., -1., -1., -1., -4.): 'Floating State',\n",
    "}\n",
    "\n",
    "CC.generate_verilog_biases(label_mapping_binary=label_mapping)"
   ]
  }
 ],
 "metadata": {
  "kernelspec": {
   "display_name": ".venv",
   "language": "python",
   "name": "python3"
  },
  "language_info": {
   "codemirror_mode": {
    "name": "ipython",
    "version": 3
   },
   "file_extension": ".py",
   "mimetype": "text/x-python",
   "name": "python",
   "nbconvert_exporter": "python",
   "pygments_lexer": "ipython3",
   "version": "3.10.11"
  }
 },
 "nbformat": 4,
 "nbformat_minor": 2
}
