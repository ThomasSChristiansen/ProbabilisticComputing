{
 "cells": [
  {
   "cell_type": "code",
   "execution_count": 1,
   "metadata": {},
   "outputs": [],
   "source": [
    "import Scripts.CustomScripts as CS\n",
    "import numpy as np"
   ]
  },
  {
   "cell_type": "markdown",
   "metadata": {},
   "source": [
    "# Notebooks for generating different parameters for the Full Adder"
   ]
  },
  {
   "cell_type": "markdown",
   "metadata": {},
   "source": [
    "Truth table:\n",
    "| A | B | C_in | Sum | C_out |\n",
    "|:---:|:---:|:---:|:---:|:---:|\n",
    "| 0 | 0 | 0 | 0 | 0 |\n",
    "| 0 | 0 | 1 | 1 | 0 |\n",
    "| 0 | 1 | 0 | 1 | 0 |\n",
    "| 0 | 1 | 1 | 0 | 1 |\n",
    "| 1 | 0 | 0 | 1 | 0 |\n",
    "| 1 | 0 | 1 | 0 | 1 |\n",
    "| 1 | 1 | 0 | 0 | 1 |\n",
    "| 1 | 1 | 1 | 1 | 1 |"
   ]
  },
  {
   "cell_type": "code",
   "execution_count": 2,
   "metadata": {},
   "outputs": [
    {
     "name": "stdout",
     "output_type": "stream",
     "text": [
      "Converted to binary:\n",
      "[[ 0. -2. -2.  2.  4.]\n",
      " [-2.  0. -2.  2.  4.]\n",
      " [-2. -2.  0.  2.  4.]\n",
      " [ 2.  2.  2.  0. -4.]\n",
      " [ 4.  4.  4. -4.  0.]]\n",
      "[-1.,-1.,-1.,-1.,-4.]\n",
      "Generated Verilog Parameters:\n",
      "\n",
      "parameter J_0000 = 8'sb00000000;\n",
      "parameter J_0001 = 8'sb11110000;\n",
      "parameter J_0002 = 8'sb11110000;\n",
      "parameter J_0003 = 8'sb00010000;\n",
      "parameter J_0004 = 8'sb00100000;\n",
      "parameter J_0100 = 8'sb11110000;\n",
      "parameter J_0101 = 8'sb00000000;\n",
      "parameter J_0102 = 8'sb11110000;\n",
      "parameter J_0103 = 8'sb00010000;\n",
      "parameter J_0104 = 8'sb00100000;\n",
      "parameter J_0200 = 8'sb11110000;\n",
      "parameter J_0201 = 8'sb11110000;\n",
      "parameter J_0202 = 8'sb00000000;\n",
      "parameter J_0203 = 8'sb00010000;\n",
      "parameter J_0204 = 8'sb00100000;\n",
      "parameter J_0300 = 8'sb00010000;\n",
      "parameter J_0301 = 8'sb00010000;\n",
      "parameter J_0302 = 8'sb00010000;\n",
      "parameter J_0303 = 8'sb00000000;\n",
      "parameter J_0304 = 8'sb11100000;\n",
      "parameter J_0400 = 8'sb00100000;\n",
      "parameter J_0401 = 8'sb00100000;\n",
      "parameter J_0402 = 8'sb00100000;\n",
      "parameter J_0403 = 8'sb11100000;\n",
      "parameter J_0404 = 8'sb00000000;\n",
      "\n",
      "logic signed [7:0] J [0:4][0:4] = '{{J_0000, J_0001, J_0002, J_0003, J_0004},\n",
      "{J_0100, J_0101, J_0102, J_0103, J_0104},\n",
      "{J_0200, J_0201, J_0202, J_0203, J_0204},\n",
      "{J_0300, J_0301, J_0302, J_0303, J_0304},\n",
      "{J_0400, J_0401, J_0402, J_0403, J_0404}};\n",
      "\n",
      "parameter h0 = 8'sb11111000;\n",
      "parameter h1 = 8'sb11111000;\n",
      "parameter h2 = 8'sb11111000;\n",
      "parameter h3 = 8'sb11111000;\n",
      "parameter h4 = 8'sb11100000;\n",
      "\n",
      "logic signed [7:0] h [0:4] = '{h0,h1,h2,h3,h4};\n",
      "Generated Seeds:\n",
      "parameter seed0 = 32'b00001111001011001110010101001100;\n",
      "parameter seed1 = 32'b10010101010101101100110000110101;\n",
      "parameter seed2 = 32'b10010110000110010111000101100001;\n",
      "parameter seed3 = 32'b01110011011001100110100100110101;\n",
      "parameter seed4 = 32'b11010111101101101000100111101000;\n",
      "logic [31:0] seed [0:4] = '{seed0, seed1, seed2, seed3, seed4};\n"
     ]
    }
   ],
   "source": [
    "# Weight matrix\n",
    "J_bipolar = np.array([\n",
    "    [ 0, -1, -1,  1,  2],\n",
    "    [-1,  0, -1,  1,  2],\n",
    "    [-1, -1,  0,  1,  2],\n",
    "    [ 1,  1,  1,  0, -2],\n",
    "    [ 2,  2,  2, -2,  0]\n",
    "])\n",
    "\n",
    "# Bias \n",
    "h_bipolar_floating = np.array([0,0,0,0,0]) \n",
    "\n",
    "J_binary_formatted, J_array_init, h_binary_formatted, h_array_init = CS.generate_verilog_params(J_bipolar, h_bipolar_floating)\n",
    "\n",
    "# Generate seeds\n",
    "seeds_formatted = CS.generate_seed_array(len(h_bipolar_floating))\n",
    "\n",
    "# Print results\n",
    "print(\"Generated Verilog Parameters:\\n\")\n",
    "print(J_binary_formatted)\n",
    "print(J_array_init)\n",
    "print()\n",
    "print(h_binary_formatted)\n",
    "print(h_array_init)\n",
    "print(\"Generated Seeds:\")\n",
    "print(seeds_formatted)"
   ]
  },
  {
   "cell_type": "code",
   "execution_count": 3,
   "metadata": {},
   "outputs": [
    {
     "name": "stdout",
     "output_type": "stream",
     "text": [
      "#1000000;\n",
      "// h_bipolar(Floating State)\n",
      "h[0] = 8'sb11111000;\n",
      "h[1] = 8'sb11111000;\n",
      "h[2] = 8'sb11111000;\n",
      "h[3] = 8'sb11111000;\n",
      "h[4] = 8'sb11100000;\n",
      "bias[0] = s4_3_to_real(h[0]);\n",
      "bias[1] = s4_3_to_real(h[1]);\n",
      "bias[2] = s4_3_to_real(h[2]);\n",
      "bias[3] = s4_3_to_real(h[3]);\n",
      "bias[4] = s4_3_to_real(h[4]);\n",
      "\n",
      "bias[0],\n",
      "bias[1],\n",
      "bias[2],\n",
      "bias[3],\n",
      "bias[4],\n"
     ]
    }
   ],
   "source": [
    "label_mapping = {\n",
    "    (-1., -1., -1., -1., -4.): 'Floating State',\n",
    "}\n",
    "\n",
    "CS.generate_verilog_biases(label_mapping_binary=label_mapping)"
   ]
  },
  {
   "cell_type": "code",
   "execution_count": 5,
   "metadata": {},
   "outputs": [
    {
     "name": "stdout",
     "output_type": "stream",
     "text": [
      "Mem files generated in folder 'bram':\n",
      "  5pbit_FA_h.mem\n",
      "  5pbit_FA_J.mem\n",
      "  5pbit_FA_seeds.mem\n"
     ]
    }
   ],
   "source": [
    "CS.generate_mem_files(J_bipolar, h_bipolar_floating, '5pbit_FA')"
   ]
  },
  {
   "cell_type": "code",
   "execution_count": null,
   "metadata": {},
   "outputs": [],
   "source": [
    "CS.generate_group_update_order(J_bipolar, var_names, group_bit_width=3)"
   ]
  }
 ],
 "metadata": {
  "kernelspec": {
   "display_name": ".venv",
   "language": "python",
   "name": "python3"
  },
  "language_info": {
   "codemirror_mode": {
    "name": "ipython",
    "version": 3
   },
   "file_extension": ".py",
   "mimetype": "text/x-python",
   "name": "python",
   "nbconvert_exporter": "python",
   "pygments_lexer": "ipython3",
   "version": "3.11.5"
  }
 },
 "nbformat": 4,
 "nbformat_minor": 2
}
