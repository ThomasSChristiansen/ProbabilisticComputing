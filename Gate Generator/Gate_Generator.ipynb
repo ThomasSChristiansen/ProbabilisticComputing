{
 "cells": [
  {
   "cell_type": "code",
   "execution_count": null,
   "metadata": {},
   "outputs": [],
   "source": [
    "import numpy as np\n",
    "import Scripts.CustomScripts as CS\n",
    "import os\n",
    "\n",
    "#Insert h and J here\n",
    "J_total = np.array([\n",
    "    [0, -1],\n",
    "    [-1, 0]\n",
    "])\n",
    "\n",
    "h_total = [0,0]\n",
    "\n",
    "# Name nodes in order\n",
    "node_order = ['A', 'B']\n",
    "\n",
    "\n",
    "save_folder = CS.find_folder_upwards(\"Circuit_Library\")\n",
    "os.makedirs(save_folder, exist_ok=True)\n",
    "save_path = os.path.join(save_folder, f\"{'NOT'}.npz\")\n",
    "np.savez(save_path, **{f\"{'NOT'}_h\": h_total, f\"{'NOT'}_J\": J_total, f\"{'NOT'}_node_order\": node_order})\n",
    "print(f\"Saved weight data to {save_path}\")"
   ]
  }
 ],
 "metadata": {
  "kernelspec": {
   "display_name": ".venv",
   "language": "python",
   "name": "python3"
  },
  "language_info": {
   "codemirror_mode": {
    "name": "ipython",
    "version": 3
   },
   "file_extension": ".py",
   "mimetype": "text/x-python",
   "name": "python",
   "nbconvert_exporter": "python",
   "pygments_lexer": "ipython3",
   "version": "3.11.5"
  }
 },
 "nbformat": 4,
 "nbformat_minor": 2
}
