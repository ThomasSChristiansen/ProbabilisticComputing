{
 "cells": [
  {
   "cell_type": "code",
   "execution_count": 1,
   "metadata": {},
   "outputs": [
    {
     "name": "stdout",
     "output_type": "stream",
     "text": [
      "Saved weight data to C:\\repositories\\ProbabilisticComputing\\Circuit_Library\\OR.npz\n"
     ]
    }
   ],
   "source": [
    "import numpy as np\n",
    "import Scripts.CustomScripts as CS\n",
    "import os\n",
    "\n",
    "#Insert h and J here\n",
    "J_total = np.array([\n",
    "    [0, -2, 3],\n",
    "    [-2, 0, 3],\n",
    "    [3, 3, 0]\n",
    "])\n",
    "\n",
    "h_total = [-1, -1, 2]\n",
    "\n",
    "# Name nodes in order\n",
    "node_order = ['A', 'B', 'C']\n",
    "\n",
    "\n",
    "save_folder = CS.find_folder_upwards(\"Circuit_Library\")\n",
    "os.makedirs(save_folder, exist_ok=True)\n",
    "save_path = os.path.join(save_folder, f\"{'OR'}.npz\")\n",
    "np.savez(save_path, **{f\"{'OR'}_h\": h_total, f\"{'OR'}_J\": J_total, f\"{'OR'}_node_order\": node_order})\n",
    "print(f\"Saved weight data to {save_path}\")"
   ]
  }
 ],
 "metadata": {
  "kernelspec": {
   "display_name": ".venv",
   "language": "python",
   "name": "python3"
  },
  "language_info": {
   "codemirror_mode": {
    "name": "ipython",
    "version": 3
   },
   "file_extension": ".py",
   "mimetype": "text/x-python",
   "name": "python",
   "nbconvert_exporter": "python",
   "pygments_lexer": "ipython3",
   "version": "3.11.5"
  }
 },
 "nbformat": 4,
 "nbformat_minor": 2
}
