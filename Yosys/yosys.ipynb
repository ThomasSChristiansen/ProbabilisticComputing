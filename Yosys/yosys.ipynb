{
 "cells": [
  {
   "cell_type": "code",
   "execution_count": 1,
   "metadata": {},
   "outputs": [
    {
     "name": "stdout",
     "output_type": "stream",
     "text": [
      "Generated script: scripts\\Synth_andornot.ys\n",
      "Generated script: scripts\\Synth_AND_AND_AND.ys\n",
      "Generated script: scripts\\Synth_AND_AND_OR.ys\n",
      "Generated script: scripts\\Synth_AND_gate.ys\n",
      "Generated script: scripts\\Synth_FA.ys\n",
      "Generated script: scripts\\Synth_Multiplier_2x2.ys\n",
      "Generated script: scripts\\Synth_Multiplier_3x3.ys\n",
      "Generated script: scripts\\Synth_Multiplier_4x4.ys\n",
      "Generated script: scripts\\Synth_Multiplier_verilog.ys\n",
      "Generated script: scripts\\Synth_XOR.ys\n"
     ]
    }
   ],
   "source": [
    "from Scripts.generate_yosys_scripts import generate_yosys_scripts\n",
    "# Define your directories and top module (adjust as needed)\n",
    "generate_yosys_scripts(\"Sources\", \"Synthesized\", \"scripts\")"
   ]
  }
 ],
 "metadata": {
  "kernelspec": {
   "display_name": ".venv",
   "language": "python",
   "name": "python3"
  },
  "language_info": {
   "codemirror_mode": {
    "name": "ipython",
    "version": 3
   },
   "file_extension": ".py",
   "mimetype": "text/x-python",
   "name": "python",
   "nbconvert_exporter": "python",
   "pygments_lexer": "ipython3",
   "version": "3.10.11"
  }
 },
 "nbformat": 4,
 "nbformat_minor": 2
}
