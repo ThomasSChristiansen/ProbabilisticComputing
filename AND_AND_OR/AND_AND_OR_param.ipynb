{
 "cells": [
  {
   "cell_type": "code",
   "execution_count": 6,
   "metadata": {},
   "outputs": [
    {
     "name": "stdout",
     "output_type": "stream",
     "text": [
      "Detected top module: AND_AND_OR\n",
      "Overall bias vector (h_total) in np.array format:\n",
      "np.array([-3., -3.,  1.,  1.,  1.,  1.,  2.])\n",
      "\n",
      "Overall weight matrix (J_total) in np.array format:\n",
      "np.array([[ 0., -2.,  0.,  2.,  0.,  2.,  3.],\n",
      " [-2.,  0.,  2.,  0.,  2.,  0.,  3.],\n",
      " [ 0.,  2.,  0.,  0., -1.,  0.,  0.],\n",
      " [ 2.,  0.,  0.,  0.,  0., -1.,  0.],\n",
      " [ 0.,  2., -1.,  0.,  0.,  0.,  0.],\n",
      " [ 2.,  0.,  0., -1.,  0.,  0.,  0.],\n",
      " [ 3.,  3.,  0.,  0.,  0.,  0.,  0.]])\n",
      "\n",
      "Order of the matrix: 7 x 7\n",
      "\n",
      "Node order (mapping of node names to indices):\n",
      "[\"7\", \"8\", \"A10\", \"A20\", \"B10\", \"B20\", \"Y0\"]\n",
      "Saved weight data to C:\\repositories\\ProbabilisticComputing\\Circuit_Library\\AND_AND_OR.npz\n"
     ]
    }
   ],
   "source": [
    "from Scripts.generate_weight_from_json_netlist import generate_weights_from_json_netlist\n",
    "\n",
    "h_total, J_total, nodes = generate_weights_from_json_netlist('../Yosys/Synthesized/AND_AND_OR_synthesized.json',SaveCircuit=True,CircuitName=\"AND_AND_OR\")"
   ]
  },
  {
   "cell_type": "code",
   "execution_count": 7,
   "metadata": {},
   "outputs": [
    {
     "name": "stdout",
     "output_type": "stream",
     "text": [
      "Found folder: C:\\repositories\\ProbabilisticComputing\\Circuit_Library\n",
      "[[ 0. -4.  0.  4.  0.  4.  6.]\n",
      " [-4.  0.  4.  0.  4.  0.  6.]\n",
      " [ 0.  4.  0.  0. -2.  0.  0.]\n",
      " [ 4.  0.  0.  0.  0. -2.  0.]\n",
      " [ 0.  4. -2.  0.  0.  0.  0.]\n",
      " [ 4.  0.  0. -2.  0.  0.  0.]\n",
      " [ 6.  6.  0.  0.  0.  0.  0.]]\n",
      "[-8. -8.  0.  0.  0.  0. -4.]\n",
      "11000000\n",
      "11000000\n",
      "00000000\n",
      "00000000\n",
      "00000000\n",
      "00000000\n",
      "11100000\n",
      "Mem files generated in folder 'custom_hdl_files':\n",
      "  AND_AND_OR_h.mem\n",
      "  AND_AND_OR_J.mem\n",
      "  AND_AND_OR_seeds.mem\n",
      "Global parameters file generated: AND_AND_OR_global_params.sv\n",
      "Lookup table file generated: grouped_update_order_LUT.sv\n",
      "CSR_matrix mem files generated in folder 'custom_hdl_files\\CSR_matrix':\n",
      "  AND_AND_OR_values.mem\n",
      "  AND_AND_OR_col_indices.mem\n",
      "  AND_AND_OR_row_ptr.mem\n",
      "  AND_AND_OR_h.mem\n"
     ]
    }
   ],
   "source": [
    "import Scripts.CustomScripts as CS\n",
    "J, h, node_order = CS.load_npz_data(\"AND_AND_OR.npz\", target_folder=\"Circuit_Library\")\n",
    "CS.generate_mem_files(J, h, 'AND_AND_OR')"
   ]
  }
 ],
 "metadata": {
  "kernelspec": {
   "display_name": ".venv",
   "language": "python",
   "name": "python3"
  },
  "language_info": {
   "codemirror_mode": {
    "name": "ipython",
    "version": 3
   },
   "file_extension": ".py",
   "mimetype": "text/x-python",
   "name": "python",
   "nbconvert_exporter": "python",
   "pygments_lexer": "ipython3",
   "version": "3.10.11"
  }
 },
 "nbformat": 4,
 "nbformat_minor": 2
}
