{
 "cells": [
  {
   "cell_type": "code",
   "execution_count": 1,
   "metadata": {},
   "outputs": [
    {
     "name": "stdout",
     "output_type": "stream",
     "text": [
      "Found folder: C:\\repositories\\ProbabilisticComputing\\Circuit_Library\n",
      "[[ 0. -2.  4.]\n",
      " [-2.  0.  4.]\n",
      " [ 4.  4.  0.]]\n",
      "[ 0.  0. -6.]\n",
      "00000000\n",
      "00000000\n",
      "11010000\n",
      "Mem files generated in folder 'custom_hdl_files':\n",
      "  AND_h.mem\n",
      "  AND_J.mem\n",
      "  AND_seeds.mem\n",
      "Global parameters file generated: AND_global_params.sv\n",
      "Lookup table file generated: grouped_update_order_LUT.sv\n",
      "CSR_matrix mem files generated in folder 'custom_hdl_files\\CSR_matrix':\n",
      "  AND_values.mem\n",
      "  AND_col_indices.mem\n",
      "  AND_row_ptr.mem\n",
      "  AND_h.mem\n"
     ]
    }
   ],
   "source": [
    "import Scripts.CustomScripts as CS\n",
    "J, h, node_order = CS.load_npz_data(\"AND.npz\", target_folder=\"Circuit_Library\")\n",
    "CS.generate_mem_files(J, h, 'AND')"
   ]
  }
 ],
 "metadata": {
  "kernelspec": {
   "display_name": ".venv",
   "language": "python",
   "name": "python3"
  },
  "language_info": {
   "codemirror_mode": {
    "name": "ipython",
    "version": 3
   },
   "file_extension": ".py",
   "mimetype": "text/x-python",
   "name": "python",
   "nbconvert_exporter": "python",
   "pygments_lexer": "ipython3",
   "version": "3.10.11"
  }
 },
 "nbformat": 4,
 "nbformat_minor": 2
}
